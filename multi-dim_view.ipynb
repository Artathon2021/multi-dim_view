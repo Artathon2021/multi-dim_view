{
 "cells": [
  {
   "cell_type": "markdown",
   "id": "9c129da6",
   "metadata": {},
   "source": [
    "# Multi dimentional data view\n",
    "\n",
    "The multi dimentional data view is not a dimentionality reduction of data!<br>\n",
    "the view enables navigation threw the data, imagin a person living in a two dimentional space, the person will never be able to see three dimentional figures but should we pull him out in the 3ed dimention he will see the two dimentional space changes while traveling in the 3ed dimention.<br>\n",
    "**This view enables nevigation threw the multi dimentional data.**\n",
    "\n",
    "\n",
    "\n",
    "\n",
    "## Radar view.\n",
    "<p> Visualizing a multi-dimentional data using a radar graph.<br>\n",
    "The radar graph visualizes a data vector where each line represents  vector cell.<br>\n",
    "Each line length represents the value of the vector cell.<br>\n",
    "</p>\n",
    "<img src=\"images/Radar.png\">\n",
    "\n",
    "## Data navigation view.\n",
    "<p>This view visualize a multi dimentional data using a radar graph for each point.\n",
    "The radar graph display a point in a normlized vector space.\n",
    "Each line length represents the value of the vector cell.</p>\n",
    "<img src=\"images/data_view.png\">\n",
    "\n",
    "\n",
    "## Data navigation control\n",
    "<p>The data navigation control panel provides the similarity calculation and the data view selection.\n",
    "</p>\n",
    "<p>The similarity calculation enables selection of the distance between the radar views.\n",
    "</p>\n",
    "<p>The Data view selection enables selection of the fiture used for the three dimentional positioning.\n",
    "</p>\n",
    "<img src=\"images/control_vuew.png\">\n",
    "\n",
    "\n",
    "\n"
   ]
  },
  {
   "cell_type": "markdown",
   "id": "647df63b",
   "metadata": {},
   "source": [
    "**Data files.**\n",
    "Data file containing all kinds of data.<br>\n",
    "Input file contains the data for visualization where text data istransformed in to categorial data.<br>"
   ]
  },
  {
   "cell_type": "code",
   "execution_count": 46,
   "id": "357ba2a5",
   "metadata": {},
   "outputs": [],
   "source": [
    "DATA_FILE = \"./data/data_for_artathon2021.csv\"\n",
    "INPUT_FILE = \"./data/data_for_visualization.csv\""
   ]
  },
  {
   "cell_type": "markdown",
   "id": "15778ae5",
   "metadata": {},
   "source": [
    "**Data transform**. <br>\n",
    "Tranform the data file in to visualization input file."
   ]
  },
  {
   "cell_type": "code",
   "execution_count": 53,
   "id": "4607f324",
   "metadata": {},
   "outputs": [],
   "source": [
    "import pandas as pd\n",
    "\n",
    "cereal_df = pd.read_csv(DATA_FILE)\n",
    "tissues = pd.unique(cereal_df[\"tissue\"])\n",
    "\n",
    "cereal_df.patient = pd.Categorical(cereal_df.patient)\n",
    "cereal_df[\"patient\"] = cereal_df.patient.cat.codes\n",
    "\n",
    "cereal_df.disease_stage = pd.Categorical(cereal_df.disease_stage)\n",
    "cereal_df[\"disease_stage\"] = cereal_df.disease_stage.cat.codes\n",
    "\n",
    "cereal_df.tissue = pd.Categorical(cereal_df.tissue)\n",
    "cereal_df[\"tissue\"] = cereal_df.tissue.cat.codes\n",
    " \n",
    "#print(cereal_df)\n"
   ]
  },
  {
   "cell_type": "markdown",
   "id": "f45857ff",
   "metadata": {},
   "source": [
    "**Fill positional information**<br>\n",
    "The data file is addeed with columns containing the points in an X,Y,Z axis.<br>\n",
    "the columns names are in the format of position_3d_<idetifier>...<br>"
   ]
  },
  {
   "cell_type": "code",
   "execution_count": 77,
   "id": "be85b508",
   "metadata": {},
   "outputs": [
    {
     "name": "stdout",
     "output_type": "stream",
     "text": [
      "    ID  patient  disease_stage  tissue  mutation_position  mutation_diversity  \\\n",
      "0    3        0              1       0                 28            8.819129   \n",
      "1    4        1              1       0                 28            5.335877   \n",
      "2    5        2              2       0                 28           10.245620   \n",
      "3    6        6              2       0                 28            6.797767   \n",
      "4    7        9              1       0                 28            4.050959   \n",
      "5    8       10              0       0                 28            3.560449   \n",
      "6    9       11              0       0                 28            4.307817   \n",
      "7   10       12              0       0                 28            4.645928   \n",
      "8   14        3              2       0                 28            3.744106   \n",
      "9   15        4              2       0                 28            3.190347   \n",
      "10  16        5              2       0                 28            6.277759   \n",
      "11  17        7              2       0                 28            2.056200   \n",
      "12  18        8              2       0                 28            3.428614   \n",
      "\n",
      "    mutation_diversity.1  %top_10_clones  %top_100_clones  nonfunctional  \\\n",
      "0               6.021054        0.062109         0.350656       0.007043   \n",
      "1               4.603171        0.020115         0.122418       0.003770   \n",
      "2               6.125157        0.500051         0.676234       0.048806   \n",
      "3               5.634920        0.099725         0.204292       0.014670   \n",
      "4               4.050959        0.195919         0.319092       0.048363   \n",
      "5               4.294590        0.008978         0.054472       0.002521   \n",
      "6               4.218962        0.007408         0.049423       0.001720   \n",
      "7               5.795837        0.012800         0.057293       0.002755   \n",
      "8               5.097821        0.064064         0.149712       0.017110   \n",
      "9               4.462429        0.044509         0.100579       0.013951   \n",
      "10              5.520689        0.080913         0.272094       0.012889   \n",
      "11              3.447920        0.018650         0.061200       0.009070   \n",
      "12              4.279271        0.309918         0.350141       0.090392   \n",
      "\n",
      "    functional                  position_3d_disease_stage  \\\n",
      "0     0.039761    0.6852579929645369,0.6840819180161107,1   \n",
      "1     0.022942   0.2305586089654681,0.14715991816841778,1   \n",
      "2     0.066002   0.13021302275975688,0.5313147518470183,2   \n",
      "3     0.030053    0.4315803283922126,0.8376565105032981,2   \n",
      "4     0.078769   0.2758368539391567,0.14671032194011457,1   \n",
      "5     0.015299    0.8060468380335744,0.8263653401364824,0   \n",
      "6     0.011473      0.793770550765207,0.256707976428696,0   \n",
      "7     0.012332    0.7550038512774011,0.5641385986016807,0   \n",
      "8     0.039986   0.4298222708601105,0.31376136582532577,2   \n",
      "9     0.031526    0.7982586371435578,0.9856811855948702,2   \n",
      "10    0.043343    0.7484114914175455,0.1348537611989652,2   \n",
      "11    0.029763  0.17663374761721184,0.20262663200059494,2   \n",
      "12    0.102123   0.45945902363778857,0.6054987779269864,2   \n",
      "\n",
      "                          position_3d_patient  \n",
      "0     0.8493361613899302,0.1857241738737354,0  \n",
      "1     0.22516293556211264,0.734023602212773,1  \n",
      "2   0.21390753049174072,0.29465675376336253,2  \n",
      "3   0.6084021478742864,0.014432392962091867,6  \n",
      "4     0.8712847291984398,0.8097396112110605,9  \n",
      "5    0.7447501528022076,0.9493234167956348,10  \n",
      "6   0.8499390127809929,0.48678549303293817,11  \n",
      "7    0.4295776461864138,0.3642026252197428,12  \n",
      "8    0.11736005057379029,0.8196436434587475,3  \n",
      "9     0.6909226510552873,0.5542263583182457,4  \n",
      "10   0.6768215650986809,0.44339995485526273,5  \n",
      "11    0.5226933014113342,0.2533117560380147,7  \n",
      "12    0.395757368872072,0.13078096193971112,8  \n"
     ]
    }
   ],
   "source": [
    "import random\n",
    "\n",
    "random.seed(13)\n",
    "random.uniform(0, 1)\n",
    "for index, row in cereal_df.iterrows():\n",
    "    x = str(random.random())\n",
    "    y = str(random.random()) \n",
    "    z = str(row['disease_stage'])\n",
    "\n",
    "    position = x + \",\" + y + \",\" + z\n",
    "    cereal_df.iloc[index, cereal_df.columns.get_loc('position_3d_disease_stage')] = position\n",
    "    #cereal_df[\"position_3d_disease_stage\"][index] = position\n",
    "    #print(\"z=\"+ z) \n",
    "    \n",
    "    x = str(random.random())\n",
    "    y = str(random.random()) \n",
    "    z = str(row['patient'])\n",
    "\n",
    "    position = x + \",\" + y + \",\" + z\n",
    "    cereal_df.iloc[index, cereal_df.columns.get_loc('position_3d_patient')] = position\n",
    "    #cereal_df[\"position_3d_patient\"][index] = position\n",
    "    #print(position)    \n",
    "    #print(position)\n",
    "print(cereal_df)"
   ]
  },
  {
   "cell_type": "markdown",
   "id": "9a5c33db",
   "metadata": {},
   "source": [
    "**Save tothe visualization input file.**"
   ]
  },
  {
   "cell_type": "code",
   "execution_count": 79,
   "id": "ef5aec79",
   "metadata": {},
   "outputs": [],
   "source": [
    "cereal_df.to_csv(INPUT_FILE, index=False)"
   ]
  },
  {
   "cell_type": "code",
   "execution_count": null,
   "id": "71bdca87",
   "metadata": {},
   "outputs": [],
   "source": []
  }
 ],
 "metadata": {
  "kernelspec": {
   "display_name": "Python 3",
   "language": "python",
   "name": "python3"
  },
  "language_info": {
   "codemirror_mode": {
    "name": "ipython",
    "version": 3
   },
   "file_extension": ".py",
   "mimetype": "text/x-python",
   "name": "python",
   "nbconvert_exporter": "python",
   "pygments_lexer": "ipython3",
   "version": "3.8.8"
  }
 },
 "nbformat": 4,
 "nbformat_minor": 5
}
