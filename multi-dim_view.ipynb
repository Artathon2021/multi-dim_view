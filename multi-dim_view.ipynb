{
 "cells": [
  {
   "cell_type": "raw",
   "id": "679a86ce",
   "metadata": {},
   "source": [
    "**Data files.**<br>\n",
    "Data files may be containing all kinds of data from differant types and sources.<br>\n",
    "Before being able to visualize the data it must be pre processed:<br>\n",
    "    *Data transform* text tags are enumerated to number, each number respresents a single tag.<br>\n",
    "    *Normalizing* scaling all data to the range between 0 and 1.<br>"
   ]
  },
  {
   "cell_type": "code",
   "execution_count": 1,
   "id": "357ba2a5",
   "metadata": {},
   "outputs": [],
   "source": [
    "DATA_FILE = \"./data/data_for_artathon2021.csv\"\n",
    "INPUT_FILE = \"./data/data_for_visualization.csv\""
   ]
  },
  {
   "cell_type": "raw",
   "id": "87d7e2f8",
   "metadata": {},
   "source": [
    "**Data transform**. <br>\n",
    "Data processing requires a numeric values, categorica text can not be processed you must converted in to numbers<br>\n",
    "Each number respresents a single tag, this representation may be missleading since close values do not mean close meannings.<br>"
   ]
  },
  {
   "cell_type": "code",
   "execution_count": 2,
   "id": "4607f324",
   "metadata": {},
   "outputs": [],
   "source": [
    "import pandas as pd\n",
    "\n",
    "cereal_df = pd.read_csv(DATA_FILE)\n",
    "tissues = pd.unique(cereal_df[\"tissue\"])\n",
    "\n",
    "cereal_df.patient = pd.Categorical(cereal_df.patient)\n",
    "cereal_df[\"patient\"] = cereal_df.patient.cat.codes\n",
    "\n",
    "cereal_df.disease_stage = pd.Categorical(cereal_df.disease_stage)\n",
    "cereal_df[\"disease_stage\"] = cereal_df.disease_stage.cat.codes\n",
    "\n",
    "cereal_df.tissue = pd.Categorical(cereal_df.tissue)\n",
    "cereal_df[\"tissue\"] = cereal_df.tissue.cat.codes\n",
    " \n",
    "#print(cereal_df)\n"
   ]
  },
  {
   "cell_type": "raw",
   "id": "e2353c7a",
   "metadata": {},
   "source": [
    "**Normalizing**<br>\n",
    "scaling all data to the range between 0 and 1, where minimum value is 0 and maximum value is 1.<br>\n",
    "this way all data is at the same range having the same dominance level.<br>"
   ]
  },
  {
   "cell_type": "code",
   "execution_count": 3,
   "id": "998e7e00",
   "metadata": {},
   "outputs": [],
   "source": [
    "df_min_max_scaled = pd.DataFrame()\n",
    "column='mutation_position'\n",
    "if(cereal_df[column].max() == cereal_df[column].min()): df_min_max_scaled[column] = [0 for x in cereal_df[column]]\n",
    "else: df_min_max_scaled[column] = (cereal_df[column] - cereal_df[column].min()) / (cereal_df[column].max() - cereal_df[column].min())\n",
    "\n",
    "column='mutation_diversity'\n",
    "if(cereal_df[column].max() == cereal_df[column].min()): df_min_max_scaled[column] = [0 for x in cereal_df[column]]\n",
    "else: df_min_max_scaled[column] = (cereal_df[column] - cereal_df[column].min()) / (cereal_df[column].max() - cereal_df[column].min())\n",
    "\n",
    "column='%top_10_clones'\n",
    "if(cereal_df[column].max() == cereal_df[column].min()): df_min_max_scaled[column] = [0 for x in cereal_df[column]]\n",
    "else: df_min_max_scaled[column] = (cereal_df[column] - cereal_df[column].min()) / (cereal_df[column].max() - cereal_df[column].min())\n",
    "\n",
    "column='%top_100_clones'\n",
    "if(cereal_df[column].max() == cereal_df[column].min()): df_min_max_scaled[column] = [0 for x in cereal_df[column]]\n",
    "else: df_min_max_scaled[column] = (cereal_df[column] - cereal_df[column].min()) / (cereal_df[column].max() - cereal_df[column].min())\n",
    "\n",
    "column='nonfunctional'\n",
    "if(cereal_df[column].max() == cereal_df[column].min()): df_min_max_scaled[column] = [0 for x in cereal_df[column]]\n",
    "else: df_min_max_scaled[column] = (cereal_df[column] - cereal_df[column].min()) / (cereal_df[column].max() - cereal_df[column].min())\n",
    "\n",
    "#print(df_min_max_scaled)"
   ]
  },
  {
   "cell_type": "raw",
   "id": "debd8c5a",
   "metadata": {},
   "source": [
    "**Saving to file**<br>\n",
    "The data processing table is saved in to afile which in turn will be the classification file.<br>\n",
    "Input file contains the data for visualization where text data istransformed in to categorial data.<br>"
   ]
  },
  {
   "cell_type": "code",
   "execution_count": 4,
   "id": "410c7e33",
   "metadata": {},
   "outputs": [],
   "source": [
    "INPUT_FILE = \"./data/data_scaled.csv\"\n",
    "df_min_max_scaled.to_csv(INPUT_FILE, index=False)"
   ]
  },
  {
   "cell_type": "markdown",
   "id": "75904d61",
   "metadata": {},
   "source": [
    "**Clustering**"
   ]
  },
  {
   "cell_type": "code",
   "execution_count": null,
   "id": "e9376a56",
   "metadata": {},
   "outputs": [],
   "source": []
  },
  {
   "cell_type": "code",
   "execution_count": 5,
   "id": "28706e20",
   "metadata": {},
   "outputs": [
    {
     "name": "stdout",
     "output_type": "stream",
     "text": [
      "Automatically created module for IPython interactive environment\n",
      "shape(X) (13, 5)\n"
     ]
    },
    {
     "name": "stderr",
     "output_type": "stream",
     "text": [
      "C:\\Anaconda3\\lib\\site-packages\\sklearn\\utils\\validation.py:67: FutureWarning: Pass n_neighbors=10, n_components=2 as keyword args. From version 0.25 passing these as positional arguments will result in an error\n",
      "  warnings.warn(\"Pass {} as keyword args. From version 0.25 \"\n"
     ]
    }
   ],
   "source": [
    "# Author: Jake Vanderplas -- <vanderplas@astro.washington.edu>\n",
    "\n",
    "print(__doc__)\n",
    "\n",
    "from collections import OrderedDict\n",
    "from functools import partial\n",
    "from time import time\n",
    "\n",
    "import matplotlib.pyplot as plt\n",
    "from mpl_toolkits.mplot3d import Axes3D\n",
    "from matplotlib.ticker import NullFormatter\n",
    "\n",
    "from sklearn import manifold, datasets\n",
    "\n",
    "# Next line to silence pyflakes. This import is needed.\n",
    "Axes3D\n",
    "\n",
    "n_points = 1000\n",
    "#X, color = datasets.make_s_curve(n_points, random_state=0)\n",
    "data = pd.read_csv(INPUT_FILE)\n",
    "#data = df_min_max_scaled\n",
    "X = pd.DataFrame()\n",
    "X['mutation_position'] = data['mutation_position'].astype(float)\n",
    "X['mutation_diversity'] = data['mutation_diversity'].astype(float)\n",
    "X['%top_10_clones'] = data['%top_10_clones'].astype(float)\n",
    "X['%top_100_clones'] = data['%top_100_clones'].astype(float)\n",
    "X['nonfunctional'] = data['%top_100_clones'].astype(float)\n",
    "print(\"shape(X) \" + str(X.shape))\n",
    "#print(X)\n",
    "\n",
    "\n",
    "\n",
    "#print(\"Colors\" + str(color))\n",
    "n_neighbors = 10\n",
    "n_components = 2\n",
    "\n",
    "# Set-up manifold methods\n",
    "LLE = partial(manifold.LocallyLinearEmbedding, n_neighbors, n_components, eigen_solver='auto')\n",
    "\n",
    "methods = OrderedDict()\n",
    "methods['LLE'] = LLE(method='standard')\n",
    "methods['LTSA'] = LLE(method='ltsa')\n",
    "methods['Hessian LLE'] = LLE(method='hessian')\n",
    "methods['Modified LLE'] = LLE(method='modified')\n",
    "methods['Isomap'] = manifold.Isomap(n_neighbors, n_components)\n",
    "methods['MDS'] = manifold.MDS(n_components, max_iter=100, n_init=1)\n",
    "methods['SE'] = manifold.SpectralEmbedding(n_components=n_components, n_neighbors=n_neighbors)\n",
    "methods['t-SNE'] = manifold.TSNE(n_components=n_components, init='pca', random_state=0)\n",
    "\n",
    "\n",
    "# Plot results\n",
    "models = {}\n",
    "for i, (label, method) in enumerate(methods.items()):\n",
    "    t0 = time()\n",
    "    Y = method.fit_transform(X)\n",
    "    models[label] = Y\n",
    "    #print(label + \" =\" +str(models[label]))\n",
    "    "
   ]
  },
  {
   "cell_type": "markdown",
   "id": "f45857ff",
   "metadata": {},
   "source": [
    "**Fill positional information**<br>\n",
    "The data file is addeed with columns containing the points in an X,Y,Z axis.<br>\n",
    "the columns names are in the format of position_3d_<idetifier>...<br>"
   ]
  },
  {
   "cell_type": "code",
   "execution_count": 6,
   "id": "be85b508",
   "metadata": {},
   "outputs": [],
   "source": [
    "import random\n",
    "\n",
    "random.seed(13)\n",
    "random.uniform(0, 1)\n",
    "\n",
    "cereal_df[\"position_3d_disease_stage\"] = 0\n",
    "cereal_df[\"position_3d_patient\"] = 0\n",
    "\n",
    "models_df = pd.DataFrame.from_dict(models['t-SNE'])\n",
    "\n",
    "models_df[0] = ((models_df[0] - models_df[0].min()) / (models_df[0].max() - models_df[0].min()))\n",
    "models_df[1] = ((models_df[1] - models_df[1].min()) / (models_df[1].max() - models_df[1].min()))\n",
    "\n",
    "for index, row in cereal_df.iterrows():\n",
    "    x = str(models_df[0][index])       #str(random.random())\n",
    "    y = str(models_df[1][index])       #str(random.random()) \n",
    "    z = row['disease_stage']\n",
    "    z = (z - cereal_df['disease_stage'].min()) / (cereal_df['disease_stage'].max() - cereal_df['disease_stage'].min()+1)\n",
    "\n",
    "    position = x + \",\" + y + \",\" + str(z)\n",
    "    cereal_df.iloc[index, cereal_df.columns.get_loc('position_3d_disease_stage')] = position\n",
    "    z = row['patient']\n",
    "    z = (z - cereal_df['patient'].min()) / (cereal_df['patient'].max() - cereal_df['patient'].min()+1)\n",
    "\n",
    "    position = x + \",\" + y + \",\" + str(z)\n",
    "    cereal_df.iloc[index, cereal_df.columns.get_loc('position_3d_patient')] = position\n"
   ]
  },
  {
   "cell_type": "markdown",
   "id": "9a5c33db",
   "metadata": {},
   "source": [
    "**Save to the visualization input file.**"
   ]
  },
  {
   "cell_type": "code",
   "execution_count": 7,
   "id": "ef5aec79",
   "metadata": {},
   "outputs": [],
   "source": [
    "INPUT_VIS = \"./data/data_visualization.csv\"\n",
    "cereal_df.to_csv(INPUT_VIS, index=False)"
   ]
  },
  {
   "cell_type": "markdown",
   "id": "79939748",
   "metadata": {},
   "source": [
    "\n",
    "# Comparison of Manifold Learning methods\n",
    "\n",
    "An illustration of dimensionality reduction on the S-curve dataset\n",
    "with various manifold learning methods.\n",
    "\n",
    "For a discussion and comparison of these algorithms, see the\n",
    "`manifold module page <manifold>`\n",
    "\n",
    "For a similar example, where the methods are applied to a\n",
    "sphere dataset, see `sphx_glr_auto_examples_manifold_plot_manifold_sphere.py`\n",
    "\n",
    "Note that the purpose of the MDS is to find a low-dimensional\n",
    "representation of the data (here 2D) in which the distances respect well\n",
    "the distances in the original high-dimensional space, unlike other\n",
    "manifold-learning algorithms, it does not seeks an isotropic\n",
    "representation of the data in the low-dimensional space."
   ]
  },
  {
   "cell_type": "code",
   "execution_count": 8,
   "id": "a8cfcbff",
   "metadata": {},
   "outputs": [
    {
     "data": {
      "text/plain": [
       "'\\nprint(__doc__)\\n\\nfrom collections import OrderedDict\\nfrom functools import partial\\nfrom time import time\\n\\nimport matplotlib.pyplot as plt\\nfrom mpl_toolkits.mplot3d import Axes3D\\nfrom matplotlib.ticker import NullFormatter\\n\\nfrom sklearn import manifold, datasets\\n\\n# Next line to silence pyflakes. This import is needed.\\nAxes3D\\n\\nn_points = 1000\\n#X, color = datasets.make_s_curve(n_points, random_state=0)\\ndata = pd.read_csv(INPUT_FILE)\\nX = pd.DataFrame()\\nX[\\'mutation_position\\'] = data[\\'mutation_position\\'].astype(float)\\nX[\\'mutation_diversity\\'] = data[\\'mutation_diversity\\'].astype(float)\\nX[\\'%top_10_clones\\'] = data[\\'%top_10_clones\\'].astype(float)\\nX[\\'%top_100_clones\\'] = data[\\'%top_100_clones\\'].astype(float)\\nX[\\'nonfunctional\\'] = data[\\'%top_100_clones\\'].astype(float)\\nprint(\"shape(X) \" + str(X.shape))\\nprint(X)\\n\\n\\n\\n#print(\"Colors\" + str(color))\\nn_neighbors = 10\\nn_components = 2\\n\\n# Set-up manifold methods\\nLLE = partial(manifold.LocallyLinearEmbedding, n_neighbors, n_components, eigen_solver=\\'auto\\')\\n\\nmethods = OrderedDict()\\nmethods[\\'LLE\\'] = LLE(method=\\'standard\\')\\nmethods[\\'LTSA\\'] = LLE(method=\\'ltsa\\')\\nmethods[\\'Hessian LLE\\'] = LLE(method=\\'hessian\\')\\nmethods[\\'Modified LLE\\'] = LLE(method=\\'modified\\')\\nmethods[\\'Isomap\\'] = manifold.Isomap(n_neighbors, n_components)\\nmethods[\\'MDS\\'] = manifold.MDS(n_components, max_iter=100, n_init=1)\\nmethods[\\'SE\\'] = manifold.SpectralEmbedding(n_components=n_components, n_neighbors=n_neighbors)\\nmethods[\\'t-SNE\\'] = manifold.TSNE(n_components=n_components, init=\\'pca\\', random_state=0)\\n\\n\\n# Plot results\\nmodels = {}\\nfor i, (label, method) in enumerate(methods.items()):\\n    t0 = time()\\n    Y = method.fit_transform(X)\\n    models[label] = Y\\n    print(label + \" =\" +str(models[label]))\\n'"
      ]
     },
     "execution_count": 8,
     "metadata": {},
     "output_type": "execute_result"
    }
   ],
   "source": [
    "# Author: Jake Vanderplas -- <vanderplas@astro.washington.edu>\n",
    "\"\"\"\n",
    "print(__doc__)\n",
    "\n",
    "from collections import OrderedDict\n",
    "from functools import partial\n",
    "from time import time\n",
    "\n",
    "import matplotlib.pyplot as plt\n",
    "from mpl_toolkits.mplot3d import Axes3D\n",
    "from matplotlib.ticker import NullFormatter\n",
    "\n",
    "from sklearn import manifold, datasets\n",
    "\n",
    "# Next line to silence pyflakes. This import is needed.\n",
    "Axes3D\n",
    "\n",
    "n_points = 1000\n",
    "#X, color = datasets.make_s_curve(n_points, random_state=0)\n",
    "data = pd.read_csv(INPUT_FILE)\n",
    "X = pd.DataFrame()\n",
    "X['mutation_position'] = data['mutation_position'].astype(float)\n",
    "X['mutation_diversity'] = data['mutation_diversity'].astype(float)\n",
    "X['%top_10_clones'] = data['%top_10_clones'].astype(float)\n",
    "X['%top_100_clones'] = data['%top_100_clones'].astype(float)\n",
    "X['nonfunctional'] = data['%top_100_clones'].astype(float)\n",
    "print(\"shape(X) \" + str(X.shape))\n",
    "print(X)\n",
    "\n",
    "\n",
    "\n",
    "#print(\"Colors\" + str(color))\n",
    "n_neighbors = 10\n",
    "n_components = 2\n",
    "\n",
    "# Set-up manifold methods\n",
    "LLE = partial(manifold.LocallyLinearEmbedding, n_neighbors, n_components, eigen_solver='auto')\n",
    "\n",
    "methods = OrderedDict()\n",
    "methods['LLE'] = LLE(method='standard')\n",
    "methods['LTSA'] = LLE(method='ltsa')\n",
    "methods['Hessian LLE'] = LLE(method='hessian')\n",
    "methods['Modified LLE'] = LLE(method='modified')\n",
    "methods['Isomap'] = manifold.Isomap(n_neighbors, n_components)\n",
    "methods['MDS'] = manifold.MDS(n_components, max_iter=100, n_init=1)\n",
    "methods['SE'] = manifold.SpectralEmbedding(n_components=n_components, n_neighbors=n_neighbors)\n",
    "methods['t-SNE'] = manifold.TSNE(n_components=n_components, init='pca', random_state=0)\n",
    "\n",
    "\n",
    "# Plot results\n",
    "models = {}\n",
    "for i, (label, method) in enumerate(methods.items()):\n",
    "    t0 = time()\n",
    "    Y = method.fit_transform(X)\n",
    "    models[label] = Y\n",
    "    print(label + \" =\" +str(models[label]))\n",
    "\"\"\""
   ]
  },
  {
   "cell_type": "code",
   "execution_count": null,
   "id": "ffdbc83b",
   "metadata": {},
   "outputs": [],
   "source": []
  },
  {
   "cell_type": "markdown",
   "id": "e1335d03",
   "metadata": {},
   "source": [
    "# Multi dimentional data view\n",
    "\n",
    "The multi dimentional data view is not a dimentionality reduction of data!<br>\n",
    "the view enables navigation threw the data, imagin a person living in a two dimentional space, the person will never be able to see three dimentional figures but should we pull him out in the 3ed dimention he will see the two dimentional space changes while traveling in the 3ed dimention.<br>\n",
    "**This view enables nevigation threw the multi dimentional data.**\n",
    "\n",
    "\n",
    "\n",
    "\n",
    "## Radar view.\n",
    "<p> Visualizing a multi-dimentional data using a radar graph.<br>\n",
    "The radar graph visualizes a data vector where each line represents  vector cell.<br>\n",
    "Each line length represents the value of the vector cell.<br>\n",
    "</p>\n",
    "<img src=\"images/Radar.png\">\n",
    "\n",
    "\n",
    "## Data navigation view.\n",
    "<p>This view visualize a multi dimentional data using a radar graph for each point.\n",
    "The radar graph display a point in a normlized vector space.\n",
    "Each line length represents the value of the vector cell.</p>\n",
    "<img src=\"images/data_view.png\">\n",
    "\n",
    "\n",
    "## Data navigation control\n",
    "<p>The data navigation control panel provides the similarity calculation and the data view selection.\n",
    "</p>\n",
    "<p>The similarity calculation enables selection of the distance between the radar views.\n",
    "</p>\n",
    "<p>The Data view selection enables selection of the fiture used for the three dimentional positioning.\n",
    "</p>\n",
    "<img src=\"images/control_vuew.png\">\n",
    "\n",
    "\n",
    "\n"
   ]
  },
  {
   "cell_type": "code",
   "execution_count": null,
   "id": "92a25086",
   "metadata": {},
   "outputs": [],
   "source": []
  }
 ],
 "metadata": {
  "kernelspec": {
   "display_name": "Python 3",
   "language": "python",
   "name": "python3"
  },
  "language_info": {
   "codemirror_mode": {
    "name": "ipython",
    "version": 3
   },
   "file_extension": ".py",
   "mimetype": "text/x-python",
   "name": "python",
   "nbconvert_exporter": "python",
   "pygments_lexer": "ipython3",
   "version": "3.8.8"
  }
 },
 "nbformat": 4,
 "nbformat_minor": 5
}
