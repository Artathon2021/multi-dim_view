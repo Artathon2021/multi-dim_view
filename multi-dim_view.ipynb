{
 "cells": [
  {
   "cell_type": "markdown",
   "id": "9c129da6",
   "metadata": {},
   "source": [
    "# Multi dimentional data view\n",
    "\n",
    "The multi dimentional data view is not a dimentionality reduction of data!<br>\n",
    "the view enables navigation threw the data, imagin a person living in a two dimentional space, the person will never be able to see three dimentional figures but should we pull him out in the 3ed dimention he will see the two dimentional space changes while traveling in the 3ed dimention.<br>\n",
    "**This view enables nevigation threw the multi dimentional data.**\n",
    "\n",
    "\n",
    "\n",
    "\n",
    "## Radar view.\n",
    "<p> Visualizing a multi-dimentional data using a radar graph.<br>\n",
    "The radar graph visualizes a data vector where each line represents  vector cell.<br>\n",
    "Each line length represents the value of the vector cell.<br>\n",
    "</p>\n",
    "<img src=\"images/Radar.png\">\n",
    "\n",
    "## Data navigation view.\n",
    "<p>This view visualize a multi dimentional data using a radar graph for each point.\n",
    "The radar graph display a point in a normlized vector space.\n",
    "Each line length represents the value of the vector cell.</p>\n",
    "<img src=\"images/data_view.png\">\n",
    "\n",
    "\n",
    "## Data navigation control\n",
    "<p>The data navigation control panel provides the similarity calculation and the data view selection.\n",
    "</p>\n",
    "<p>The similarity calculation enables selection of the distance between the radar views.\n",
    "</p>\n",
    "<p>The Data view selection enables selection of the fiture used for the three dimentional positioning.\n",
    "</p>\n",
    "<img src=\"images/control_vuew.png\">\n",
    "\n",
    "\n",
    "\n"
   ]
  },
  {
   "cell_type": "markdown",
   "id": "647df63b",
   "metadata": {},
   "source": [
    "**Data files.**\n",
    "Data file containing all kinds of data.<br>\n",
    "Input file contains the data for visualization where text data istransformed in to categorial data.<br>"
   ]
  },
  {
   "cell_type": "code",
   "execution_count": 4,
   "id": "357ba2a5",
   "metadata": {},
   "outputs": [],
   "source": [
    "DATA_FILE = \"./data/data_for_artathon2021.csv\"\n",
    "INPUT_FILE = \"./data/data_for_visualization.csv\""
   ]
  },
  {
   "cell_type": "markdown",
   "id": "15778ae5",
   "metadata": {},
   "source": [
    "**Data transform**. <br>\n",
    "Tranform the data file in to visualization input file."
   ]
  },
  {
   "cell_type": "code",
   "execution_count": 5,
   "id": "4607f324",
   "metadata": {},
   "outputs": [],
   "source": [
    "import pandas as pd\n",
    "\n",
    "cereal_df = pd.read_csv(DATA_FILE)\n",
    "tissues = pd.unique(cereal_df[\"tissue\"])\n",
    "\n",
    "cereal_df.tissue = pd.Categorical(cereal_df.patient)\n",
    "cereal_df[\"patient\"] = cereal_df.tissue.cat.codes\n",
    "\n",
    "cereal_df.tissue = pd.Categorical(cereal_df.disease_stage)\n",
    "cereal_df[\"disease_stage\"] = cereal_df.tissue.cat.codes\n",
    "\n",
    "cereal_df.tissue = pd.Categorical(cereal_df.tissue)\n",
    "cereal_df[\"tissue\"] = cereal_df.tissue.cat.codes\n",
    " \n",
    "#print(cereal_df)\n"
   ]
  },
  {
   "cell_type": "markdown",
   "id": "f45857ff",
   "metadata": {},
   "source": [
    "**Fill positional information**<br>\n",
    "The data file is addeed with columns containing the points in an X,Y,Z axis.<br>\n",
    "the columns names are in the format of position_3d_<idetifier>...<br>"
   ]
  },
  {
   "cell_type": "code",
   "execution_count": 43,
   "id": "be85b508",
   "metadata": {},
   "outputs": [
    {
     "name": "stdout",
     "output_type": "stream",
     "text": [
      "    ID  patient  disease_stage  tissue  mutation_position  mutation_diversity  \\\n",
      "0    3        0              1       1                 28            8.819129   \n",
      "1    4        1              1       1                 28            5.335877   \n",
      "2    5        2              2       2                 28           10.245620   \n",
      "3    6        6              2       2                 28            6.797767   \n",
      "4    7        9              1       1                 28            4.050959   \n",
      "5    8       10              0       0                 28            3.560449   \n",
      "6    9       11              0       0                 28            4.307817   \n",
      "7   10       12              0       0                 28            4.645928   \n",
      "8   14        3              2       2                 28            3.744106   \n",
      "9   15        4              2       2                 28            3.190347   \n",
      "10  16        5              2       2                 28            6.277759   \n",
      "11  17        7              2       2                 28            2.056200   \n",
      "12  18        8              2       2                 28            3.428614   \n",
      "\n",
      "    mutation_diversity.1  %top_10_clones  %top_100_clones  nonfunctional  \\\n",
      "0               6.021054        0.062109         0.350656       0.007043   \n",
      "1               4.603171        0.020115         0.122418       0.003770   \n",
      "2               6.125157        0.500051         0.676234       0.048806   \n",
      "3               5.634920        0.099725         0.204292       0.014670   \n",
      "4               4.050959        0.195919         0.319092       0.048363   \n",
      "5               4.294590        0.008978         0.054472       0.002521   \n",
      "6               4.218962        0.007408         0.049423       0.001720   \n",
      "7               5.795837        0.012800         0.057293       0.002755   \n",
      "8               5.097821        0.064064         0.149712       0.017110   \n",
      "9               4.462429        0.044509         0.100579       0.013951   \n",
      "10              5.520689        0.080913         0.272094       0.012889   \n",
      "11              3.447920        0.018650         0.061200       0.009070   \n",
      "12              4.279271        0.309918         0.350141       0.090392   \n",
      "\n",
      "    functional                                  position_3d_rand1  \\\n",
      "0     0.039761  0.8031721215739205,0.20305829275692444,0.85365...   \n",
      "1     0.022942  0.8031721215739205,0.20305829275692444,0.85365...   \n",
      "2     0.066002  0.8031721215739205,0.20305829275692444,0.85365...   \n",
      "3     0.030053  0.8031721215739205,0.20305829275692444,0.85365...   \n",
      "4     0.078769  0.8031721215739205,0.20305829275692444,0.85365...   \n",
      "5     0.015299  0.8031721215739205,0.20305829275692444,0.85365...   \n",
      "6     0.011473  0.8031721215739205,0.20305829275692444,0.85365...   \n",
      "7     0.012332  0.8031721215739205,0.20305829275692444,0.85365...   \n",
      "8     0.039986  0.8031721215739205,0.20305829275692444,0.85365...   \n",
      "9     0.031526  0.8031721215739205,0.20305829275692444,0.85365...   \n",
      "10    0.043343  0.8031721215739205,0.20305829275692444,0.85365...   \n",
      "11    0.029763  0.8031721215739205,0.20305829275692444,0.85365...   \n",
      "12    0.102123  0.8031721215739205,0.20305829275692444,0.85365...   \n",
      "\n",
      "                                    position_3d_rand2  \n",
      "0   0.37475624323154333,0.7165110905234495,0.13700...  \n",
      "1   0.37475624323154333,0.7165110905234495,0.13700...  \n",
      "2   0.37475624323154333,0.7165110905234495,0.13700...  \n",
      "3   0.37475624323154333,0.7165110905234495,0.13700...  \n",
      "4   0.37475624323154333,0.7165110905234495,0.13700...  \n",
      "5   0.37475624323154333,0.7165110905234495,0.13700...  \n",
      "6   0.37475624323154333,0.7165110905234495,0.13700...  \n",
      "7   0.37475624323154333,0.7165110905234495,0.13700...  \n",
      "8   0.37475624323154333,0.7165110905234495,0.13700...  \n",
      "9   0.37475624323154333,0.7165110905234495,0.13700...  \n",
      "10  0.37475624323154333,0.7165110905234495,0.13700...  \n",
      "11  0.37475624323154333,0.7165110905234495,0.13700...  \n",
      "12  0.37475624323154333,0.7165110905234495,0.13700...  \n"
     ]
    }
   ],
   "source": [
    "import random\n",
    "\n",
    "random.seed(13)\n",
    "random.uniform(0, 1)\n",
    "for index, row in cereal_df.iterrows():\n",
    "    x = str(random.random())\n",
    "    y = str(random.random()) \n",
    "    z = str(random.random())\n",
    "    position = x + \",\" + y + \",\" + z\n",
    "    cereal_df[\"position_3d_rand1\"] = position\n",
    "    \n",
    "    x = str(random.random())\n",
    "    y = str(random.random()) \n",
    "    z = str(random.random())\n",
    "    position = x + \",\" + y + \",\" + z\n",
    "    cereal_df[\"position_3d_rand2\"] = position\n",
    "    #print(position)\n",
    "print(cereal_df)"
   ]
  },
  {
   "cell_type": "markdown",
   "id": "9a5c33db",
   "metadata": {},
   "source": [
    "**Save tothe visualization input file.**"
   ]
  },
  {
   "cell_type": "code",
   "execution_count": 45,
   "id": "ef5aec79",
   "metadata": {},
   "outputs": [],
   "source": [
    "cereal_df.to_csv(INPUT_FILE, index=False)"
   ]
  },
  {
   "cell_type": "code",
   "execution_count": null,
   "id": "71bdca87",
   "metadata": {},
   "outputs": [],
   "source": []
  }
 ],
 "metadata": {
  "kernelspec": {
   "display_name": "Python 3",
   "language": "python",
   "name": "python3"
  },
  "language_info": {
   "codemirror_mode": {
    "name": "ipython",
    "version": 3
   },
   "file_extension": ".py",
   "mimetype": "text/x-python",
   "name": "python",
   "nbconvert_exporter": "python",
   "pygments_lexer": "ipython3",
   "version": "3.8.8"
  }
 },
 "nbformat": 4,
 "nbformat_minor": 5
}
