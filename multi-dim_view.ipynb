{
 "cells": [
  {
   "cell_type": "markdown",
   "id": "9c129da6",
   "metadata": {},
   "source": [
    "# Multi dimentional data view\n",
    "\n",
    "The multi dimentional data view is not a dimentionality reduction of data!<br>\n",
    "the view enables navigation threw the data, imagin a person living in a two dimentional space, the person will never be able to see three dimentional figures but should we pull him out in the 3ed dimention he will see the two dimentional space changes while traveling in the 3ed dimention.<br>\n",
    "**This view enables nevigation threw the multi dimentional data.**\n",
    "\n",
    "\n",
    "\n",
    "\n",
    "## Radar view.\n",
    "<p> Visualizing a multi-dimentional data using a radar graph.<br>\n",
    "The radar graph visualizes a data vector where each line represents  vector cell.<br>\n",
    "Each line length represents the value of the vector cell.<br>\n",
    "</p>\n",
    "<img src=\"images/Radar.png\">\n",
    "\n",
    "## Data navigation view.\n",
    "<p>This view visualize a multi dimentional data using a radar graph for each point.\n",
    "The radar graph display a point in a normlized vector space.\n",
    "Each line length represents the value of the vector cell.</p>\n",
    "<img src=\"images/data_view.png\">\n",
    "\n",
    "\n",
    "## Data navigation control\n",
    "<p>The data navigation control panel provides the similarity calculation and the data view selection.\n",
    "</p>\n",
    "<p>The similarity calculation enables selection of the distance between the radar views.\n",
    "</p>\n",
    "<p>The Data view selection enables selection of the fiture used for the three dimentional positioning.\n",
    "</p>\n",
    "<img src=\"images/control_vuew.png\">\n",
    "\n",
    "\n",
    "\n"
   ]
  },
  {
   "cell_type": "raw",
   "id": "b09bfae4",
   "metadata": {},
   "source": []
  },
  {
   "cell_type": "code",
   "execution_count": null,
   "id": "1e94f7f3",
   "metadata": {},
   "outputs": [],
   "source": []
  }
 ],
 "metadata": {
  "kernelspec": {
   "display_name": "Python 3",
   "language": "python",
   "name": "python3"
  },
  "language_info": {
   "codemirror_mode": {
    "name": "ipython",
    "version": 3
   },
   "file_extension": ".py",
   "mimetype": "text/x-python",
   "name": "python",
   "nbconvert_exporter": "python",
   "pygments_lexer": "ipython3",
   "version": "3.8.8"
  }
 },
 "nbformat": 4,
 "nbformat_minor": 5
}
